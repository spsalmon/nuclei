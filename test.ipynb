{
 "cells": [
  {
   "cell_type": "code",
   "execution_count": 12,
   "metadata": {},
   "outputs": [
    {
     "name": "stdout",
     "output_type": "stream",
     "text": [
      "['split_1-5' 'split_2-5' 'split_3-5' 'split_4-5' 'split_5-5']\n"
     ]
    }
   ],
   "source": [
    "import os \n",
    "import re\n",
    "import numpy as np\n",
    "\n",
    "def extract_split(s):\n",
    "    \"\"\"Extract the last occurence of \"split_x-y\" where x and y are two numbers in a string \"\"\"\n",
    "    pattern = r'split_\\d+-\\d+'\n",
    "    matches = re.findall(pattern, s)\n",
    "    if matches:\n",
    "        return matches[-1]\n",
    "    else:\n",
    "        return None\n",
    "\n",
    "\n",
    "split_dir = \"/mnt/external.data/TowbinLab/ngerber/20200317_wBT280_wBT281_LIPSI_daf16_GFP_20C/analysis/nuclei_coordinate_test/ch2_WBT281_mask_split_5/\"\n",
    "\n",
    "images = [os.path.join(split_dir, x) for x in os.listdir(split_dir)]\n",
    "\n",
    "unique_splits = np.unique([extract_split(x) for x in images])\n",
    "print(unique_splits)"
   ]
  }
 ],
 "metadata": {
  "kernelspec": {
   "display_name": "nuclei",
   "language": "python",
   "name": "python3"
  },
  "language_info": {
   "codemirror_mode": {
    "name": "ipython",
    "version": 3
   },
   "file_extension": ".py",
   "mimetype": "text/x-python",
   "name": "python",
   "nbconvert_exporter": "python",
   "pygments_lexer": "ipython3",
   "version": "3.8.10"
  },
  "orig_nbformat": 4
 },
 "nbformat": 4,
 "nbformat_minor": 2
}
