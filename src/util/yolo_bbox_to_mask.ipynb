{
 "cells": [
  {
   "cell_type": "code",
   "execution_count": 57,
   "metadata": {},
   "outputs": [],
   "source": [
    "import numpy as np\n",
    "from matplotlib import pyplot as plt\n",
    "from math import floor\n",
    "import argparse\n",
    "import os\n",
    "from skimage.filters.thresholding import threshold_li, threshold_yen\n",
    "import multiprocessing as mp\n",
    "from scipy import ndimage\n",
    "from tifffile import imread, imwrite\n",
    "from skimage.morphology import disk, skeletonize\n",
    "import cv2\n",
    "import multiprocessing as mp\n",
    "from itertools import repeat\n",
    "import tifffile as ti\n",
    "import skimage\n",
    "\n",
    "from scipy import ndimage, fftpack, stats\n",
    "from matplotlib import pyplot as plt\n",
    "from math import floor, ceil\n",
    "\n",
    "from skimage import restoration\n",
    "from skimage.util import img_as_uint\n",
    "from skimage.filters import unsharp_mask, median\n",
    "\n",
    "import matplotlib\n",
    "matplotlib.rcParams['figure.figsize'] = [10, 10]\n",
    "\n",
    "from skimage.morphology import remove_small_holes, remove_small_objects"
   ]
  },
  {
   "cell_type": "code",
   "execution_count": 58,
   "metadata": {},
   "outputs": [
    {
     "name": "stderr",
     "output_type": "stream",
     "text": [
      "Importing YOLO files...: 100%|██████████| 85/85 [00:03<00:00, 28.30it/s]\n"
     ]
    }
   ],
   "source": [
    "from pylabel import importer\n",
    "\n",
    "dataset = importer.ImportYoloV5(\"/mnt/external.data/TowbinLab/spsalmon/test_coco_database/labels/labels_yolo/\", path_to_images=\"/mnt/external.data/TowbinLab/spsalmon/test_coco_database/labels/images/\", img_ext=\"tiff\", cat_names=['zizou', 'head', 'tail'])\n",
    "dataset_dataframe = dataset.df\n",
    "\n",
    "list_images = np.unique(dataset_dataframe['img_filename'])\n",
    "output_folder = \"/mnt/external.data/TowbinLab/spsalmon/test_coco_database/labels/yolo_masks/\"\n",
    "\n",
    "if not os.path.exists(output_folder):\n",
    "    os.makedirs(output_folder)"
   ]
  },
  {
   "cell_type": "code",
   "execution_count": 60,
   "metadata": {},
   "outputs": [],
   "source": [
    "for image in list_images:\n",
    "    image_data = dataset_dataframe[dataset.df['img_filename'] == image]\n",
    "    image_dim = (image_data['img_width'].iloc[0], image_data['img_height'].iloc[0])\n",
    "    output_mask = np.zeros(image_dim, dtype=\"uint8\")\n",
    "    df = image_data.reset_index()  # make sure indexes pair with number of rows\n",
    "\n",
    "    for index, row in df.iterrows():\n",
    "        bbox_xmin = int(row['ann_bbox_xmin'])\n",
    "        bbox_ymin = int(row['ann_bbox_ymin'])\n",
    "        bbox_width = int(row['ann_bbox_width'])\n",
    "        bbox_height = int(row['ann_bbox_height'])\n",
    "\n",
    "\n",
    "        if row['cat_name'] == \"tail\":\n",
    "            output_mask[bbox_ymin:(bbox_ymin + bbox_height), bbox_xmin:(bbox_xmin + bbox_width)] = 7\n",
    "        if row['cat_name'] == \"head\":\n",
    "            output_mask[bbox_ymin:(bbox_ymin + bbox_height), bbox_xmin:(bbox_xmin + bbox_width)] = 3\n",
    "\n",
    "    ti.imwrite(os.path.join(output_folder, image), output_mask, compression=\"zlib\")"
   ]
  }
 ],
 "metadata": {
  "kernelspec": {
   "display_name": "nuclei",
   "language": "python",
   "name": "python3"
  },
  "language_info": {
   "codemirror_mode": {
    "name": "ipython",
    "version": 3
   },
   "file_extension": ".py",
   "mimetype": "text/x-python",
   "name": "python",
   "nbconvert_exporter": "python",
   "pygments_lexer": "ipython3",
   "version": "3.8.10"
  },
  "orig_nbformat": 4,
  "vscode": {
   "interpreter": {
    "hash": "6003d7b9fd0d768dffffa24b832f877f718ff27d5ba8e6da5eb90abe05bdff2d"
   }
  }
 },
 "nbformat": 4,
 "nbformat_minor": 2
}
